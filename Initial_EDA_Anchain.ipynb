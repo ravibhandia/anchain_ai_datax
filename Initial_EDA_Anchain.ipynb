{
 "cells": [
  {
   "cell_type": "code",
   "execution_count": 1,
   "metadata": {},
   "outputs": [],
   "source": [
    "import os\n",
    "import requests\n",
    "import pandas as pd\n",
    "import json\n",
    "from datetime import datetime, timedelta\n",
    "import time\n",
    "from pandas.plotting import scatter_matrix\n",
    "\n"
   ]
  },
  {
   "cell_type": "code",
   "execution_count": 4,
   "metadata": {},
   "outputs": [],
   "source": [
    "df1=pd.read_json('../sample-actions-endlessbank1-20190302.json',lines=True)\n",
    "df2=pd.read_json('../sample-actions-endlessdicex-20190302.json',lines=True)"
   ]
  },
  {
   "cell_type": "code",
   "execution_count": 5,
   "metadata": {},
   "outputs": [
    {
     "data": {
      "text/html": [
       "<div>\n",
       "<style scoped>\n",
       "    .dataframe tbody tr th:only-of-type {\n",
       "        vertical-align: middle;\n",
       "    }\n",
       "\n",
       "    .dataframe tbody tr th {\n",
       "        vertical-align: top;\n",
       "    }\n",
       "\n",
       "    .dataframe thead th {\n",
       "        text-align: right;\n",
       "    }\n",
       "</style>\n",
       "<table border=\"1\" class=\"dataframe\">\n",
       "  <thead>\n",
       "    <tr style=\"text-align: right;\">\n",
       "      <th></th>\n",
       "      <th>account</th>\n",
       "      <th>account_action_seq</th>\n",
       "      <th>authorization</th>\n",
       "      <th>block_num</th>\n",
       "      <th>d_from</th>\n",
       "      <th>d_memo</th>\n",
       "      <th>d_quantity</th>\n",
       "      <th>d_quantity_unit</th>\n",
       "      <th>d_to</th>\n",
       "      <th>dapp_code</th>\n",
       "      <th>global_action_seq</th>\n",
       "      <th>name</th>\n",
       "      <th>trx_id</th>\n",
       "      <th>trx_timestamp</th>\n",
       "      <th>trx_timestamp_unix</th>\n",
       "    </tr>\n",
       "  </thead>\n",
       "  <tbody>\n",
       "    <tr>\n",
       "      <th>0</th>\n",
       "      <td>eosio.token</td>\n",
       "      <td>3369456</td>\n",
       "      <td>[{'actor': 'endlessdicex', 'permission': 'acti...</td>\n",
       "      <td>45405496</td>\n",
       "      <td>endlessdicex</td>\n",
       "      <td>bet id:13252288 player: eossuperplay send to b...</td>\n",
       "      <td>0.490</td>\n",
       "      <td>EOS</td>\n",
       "      <td>endlessbank1</td>\n",
       "      <td>Endless Dice</td>\n",
       "      <td>5345046328</td>\n",
       "      <td>transfer</td>\n",
       "      <td>c19e50c1c15718ca9ba83f53200e431c36b3a0f06b3805...</td>\n",
       "      <td>2019-03-02T00:00:01.000</td>\n",
       "      <td>1.551485e+09</td>\n",
       "    </tr>\n",
       "    <tr>\n",
       "      <th>1</th>\n",
       "      <td>eosio.token</td>\n",
       "      <td>3369458</td>\n",
       "      <td>[{'actor': 'endlessdicex', 'permission': 'acti...</td>\n",
       "      <td>45405496</td>\n",
       "      <td>endlessdicex</td>\n",
       "      <td>bet id:13252288 player: eossuperplay dividend ...</td>\n",
       "      <td>0.004</td>\n",
       "      <td>EOS</td>\n",
       "      <td>endlessdivdn</td>\n",
       "      <td>Endless Dice</td>\n",
       "      <td>5345046331</td>\n",
       "      <td>transfer</td>\n",
       "      <td>c19e50c1c15718ca9ba83f53200e431c36b3a0f06b3805...</td>\n",
       "      <td>2019-03-02T00:00:01.000</td>\n",
       "      <td>1.551485e+09</td>\n",
       "    </tr>\n",
       "    <tr>\n",
       "      <th>2</th>\n",
       "      <td>eosio.token</td>\n",
       "      <td>3369460</td>\n",
       "      <td>[{'actor': 'endlessdicex', 'permission': 'acti...</td>\n",
       "      <td>45405496</td>\n",
       "      <td>endlessdicex</td>\n",
       "      <td>bet id:13252288 player: eossuperplay send to c...</td>\n",
       "      <td>0.006</td>\n",
       "      <td>EOS</td>\n",
       "      <td>endlessoptex</td>\n",
       "      <td>Endless Dice</td>\n",
       "      <td>5345046334</td>\n",
       "      <td>transfer</td>\n",
       "      <td>c19e50c1c15718ca9ba83f53200e431c36b3a0f06b3805...</td>\n",
       "      <td>2019-03-02T00:00:01.000</td>\n",
       "      <td>1.551485e+09</td>\n",
       "    </tr>\n",
       "    <tr>\n",
       "      <th>3</th>\n",
       "      <td>eosio.token</td>\n",
       "      <td>3369461</td>\n",
       "      <td>[{'actor': 'justiceariel', 'permission': 'acti...</td>\n",
       "      <td>45405496</td>\n",
       "      <td>justiceariel</td>\n",
       "      <td>96-87730b7cf19d7697f7ff6ee04c377be61af038261f4...</td>\n",
       "      <td>0.100</td>\n",
       "      <td>EOS</td>\n",
       "      <td>endlessdicex</td>\n",
       "      <td>Endless Dice</td>\n",
       "      <td>5345046365</td>\n",
       "      <td>transfer</td>\n",
       "      <td>2574881f4d2f738d80e943cbb6f452d57cbc14b398806a...</td>\n",
       "      <td>2019-03-02T00:00:01.000</td>\n",
       "      <td>1.551485e+09</td>\n",
       "    </tr>\n",
       "    <tr>\n",
       "      <th>4</th>\n",
       "      <td>eosio.token</td>\n",
       "      <td>3369462</td>\n",
       "      <td>[{'actor': 'endlessdicex', 'permission': 'acti...</td>\n",
       "      <td>45405503</td>\n",
       "      <td>endlessdicex</td>\n",
       "      <td>bet id:13252291 player: justiceariel send to b...</td>\n",
       "      <td>0.098</td>\n",
       "      <td>EOS</td>\n",
       "      <td>endlessbank1</td>\n",
       "      <td>Endless Dice</td>\n",
       "      <td>5345047947</td>\n",
       "      <td>transfer</td>\n",
       "      <td>d315f585ded252559c2013abdda614259b32d6a550817e...</td>\n",
       "      <td>2019-03-02T00:00:04.500</td>\n",
       "      <td>1.551485e+09</td>\n",
       "    </tr>\n",
       "  </tbody>\n",
       "</table>\n",
       "</div>"
      ],
      "text/plain": [
       "       account  account_action_seq  \\\n",
       "0  eosio.token             3369456   \n",
       "1  eosio.token             3369458   \n",
       "2  eosio.token             3369460   \n",
       "3  eosio.token             3369461   \n",
       "4  eosio.token             3369462   \n",
       "\n",
       "                                       authorization  block_num        d_from  \\\n",
       "0  [{'actor': 'endlessdicex', 'permission': 'acti...   45405496  endlessdicex   \n",
       "1  [{'actor': 'endlessdicex', 'permission': 'acti...   45405496  endlessdicex   \n",
       "2  [{'actor': 'endlessdicex', 'permission': 'acti...   45405496  endlessdicex   \n",
       "3  [{'actor': 'justiceariel', 'permission': 'acti...   45405496  justiceariel   \n",
       "4  [{'actor': 'endlessdicex', 'permission': 'acti...   45405503  endlessdicex   \n",
       "\n",
       "                                              d_memo  d_quantity  \\\n",
       "0  bet id:13252288 player: eossuperplay send to b...       0.490   \n",
       "1  bet id:13252288 player: eossuperplay dividend ...       0.004   \n",
       "2  bet id:13252288 player: eossuperplay send to c...       0.006   \n",
       "3  96-87730b7cf19d7697f7ff6ee04c377be61af038261f4...       0.100   \n",
       "4  bet id:13252291 player: justiceariel send to b...       0.098   \n",
       "\n",
       "  d_quantity_unit          d_to     dapp_code  global_action_seq      name  \\\n",
       "0             EOS  endlessbank1  Endless Dice         5345046328  transfer   \n",
       "1             EOS  endlessdivdn  Endless Dice         5345046331  transfer   \n",
       "2             EOS  endlessoptex  Endless Dice         5345046334  transfer   \n",
       "3             EOS  endlessdicex  Endless Dice         5345046365  transfer   \n",
       "4             EOS  endlessbank1  Endless Dice         5345047947  transfer   \n",
       "\n",
       "                                              trx_id            trx_timestamp  \\\n",
       "0  c19e50c1c15718ca9ba83f53200e431c36b3a0f06b3805...  2019-03-02T00:00:01.000   \n",
       "1  c19e50c1c15718ca9ba83f53200e431c36b3a0f06b3805...  2019-03-02T00:00:01.000   \n",
       "2  c19e50c1c15718ca9ba83f53200e431c36b3a0f06b3805...  2019-03-02T00:00:01.000   \n",
       "3  2574881f4d2f738d80e943cbb6f452d57cbc14b398806a...  2019-03-02T00:00:01.000   \n",
       "4  d315f585ded252559c2013abdda614259b32d6a550817e...  2019-03-02T00:00:04.500   \n",
       "\n",
       "   trx_timestamp_unix  \n",
       "0        1.551485e+09  \n",
       "1        1.551485e+09  \n",
       "2        1.551485e+09  \n",
       "3        1.551485e+09  \n",
       "4        1.551485e+09  "
      ]
     },
     "execution_count": 5,
     "metadata": {},
     "output_type": "execute_result"
    }
   ],
   "source": [
    "df2.head()"
   ]
  },
  {
   "cell_type": "code",
   "execution_count": 43,
   "metadata": {},
   "outputs": [],
   "source": [
    "list_bots=['edgarwinston','Griffinhamza','jacksonjimmy','1ffyqhg4rmbk','1ffyqhg4rmbk','powellernest','2rezoaf4bhly','nckj42dit5sb','scottphillip','oepa252sdx4p','myh2o4wayvxg']\n",
    "list_humans=['g44dinjygene','onebrother11','rvrkingfishr','iloveyoudapp','huiyong12345','pketothemoon','zhshj1212123','vipgamedice2','dldldldldldl','pkeniubixxxx']"
   ]
  },
  {
   "cell_type": "code",
   "execution_count": 41,
   "metadata": {},
   "outputs": [],
   "source": [
    "training_bots= df2[pd.DataFrame(df2['d_from'].to_list()).isin(list_bots).any(1)]"
   ]
  },
  {
   "cell_type": "code",
   "execution_count": 46,
   "metadata": {},
   "outputs": [],
   "source": [
    "training_bots_2= df1[pd.DataFrame(df1['d_from'].to_list()).isin(list_bots).any(1)]"
   ]
  },
  {
   "cell_type": "code",
   "execution_count": 47,
   "metadata": {},
   "outputs": [
    {
     "data": {
      "text/html": [
       "<div>\n",
       "<style scoped>\n",
       "    .dataframe tbody tr th:only-of-type {\n",
       "        vertical-align: middle;\n",
       "    }\n",
       "\n",
       "    .dataframe tbody tr th {\n",
       "        vertical-align: top;\n",
       "    }\n",
       "\n",
       "    .dataframe thead th {\n",
       "        text-align: right;\n",
       "    }\n",
       "</style>\n",
       "<table border=\"1\" class=\"dataframe\">\n",
       "  <thead>\n",
       "    <tr style=\"text-align: right;\">\n",
       "      <th></th>\n",
       "      <th>account</th>\n",
       "      <th>account_action_seq</th>\n",
       "      <th>authorization</th>\n",
       "      <th>block_num</th>\n",
       "      <th>d_from</th>\n",
       "      <th>d_memo</th>\n",
       "      <th>d_quantity</th>\n",
       "      <th>d_quantity_unit</th>\n",
       "      <th>d_to</th>\n",
       "      <th>dapp_code</th>\n",
       "      <th>global_action_seq</th>\n",
       "      <th>name</th>\n",
       "      <th>trx_id</th>\n",
       "      <th>trx_timestamp</th>\n",
       "      <th>trx_timestamp_unix</th>\n",
       "    </tr>\n",
       "  </thead>\n",
       "  <tbody>\n",
       "  </tbody>\n",
       "</table>\n",
       "</div>"
      ],
      "text/plain": [
       "Empty DataFrame\n",
       "Columns: [account, account_action_seq, authorization, block_num, d_from, d_memo, d_quantity, d_quantity_unit, d_to, dapp_code, global_action_seq, name, trx_id, trx_timestamp, trx_timestamp_unix]\n",
       "Index: []"
      ]
     },
     "execution_count": 47,
     "metadata": {},
     "output_type": "execute_result"
    }
   ],
   "source": [
    "training_bots_2"
   ]
  },
  {
   "cell_type": "code",
   "execution_count": 42,
   "metadata": {
    "scrolled": true
   },
   "outputs": [
    {
     "data": {
      "text/html": [
       "<div>\n",
       "<style scoped>\n",
       "    .dataframe tbody tr th:only-of-type {\n",
       "        vertical-align: middle;\n",
       "    }\n",
       "\n",
       "    .dataframe tbody tr th {\n",
       "        vertical-align: top;\n",
       "    }\n",
       "\n",
       "    .dataframe thead th {\n",
       "        text-align: right;\n",
       "    }\n",
       "</style>\n",
       "<table border=\"1\" class=\"dataframe\">\n",
       "  <thead>\n",
       "    <tr style=\"text-align: right;\">\n",
       "      <th></th>\n",
       "      <th>account</th>\n",
       "      <th>account_action_seq</th>\n",
       "      <th>authorization</th>\n",
       "      <th>block_num</th>\n",
       "      <th>d_from</th>\n",
       "      <th>d_memo</th>\n",
       "      <th>d_quantity</th>\n",
       "      <th>d_quantity_unit</th>\n",
       "      <th>d_to</th>\n",
       "      <th>dapp_code</th>\n",
       "      <th>global_action_seq</th>\n",
       "      <th>name</th>\n",
       "      <th>trx_id</th>\n",
       "      <th>trx_timestamp</th>\n",
       "      <th>trx_timestamp_unix</th>\n",
       "    </tr>\n",
       "  </thead>\n",
       "  <tbody>\n",
       "    <tr>\n",
       "      <th>7</th>\n",
       "      <td>eosio.token</td>\n",
       "      <td>3369467</td>\n",
       "      <td>[{'actor': 'edgarwinston', 'permission': 'acti...</td>\n",
       "      <td>45405503</td>\n",
       "      <td>edgarwinston</td>\n",
       "      <td>96-52bb2af4bbcf7e033062eea7696c3b6d2ff0f7b604c...</td>\n",
       "      <td>0.1</td>\n",
       "      <td>EOS</td>\n",
       "      <td>endlessdicex</td>\n",
       "      <td>Endless Dice</td>\n",
       "      <td>5345048058</td>\n",
       "      <td>transfer</td>\n",
       "      <td>c215f2c76215702534ad141dc0bfdf9e50952bbe00196b...</td>\n",
       "      <td>2019-03-02T00:00:04.500</td>\n",
       "      <td>1.551485e+09</td>\n",
       "    </tr>\n",
       "  </tbody>\n",
       "</table>\n",
       "</div>"
      ],
      "text/plain": [
       "       account  account_action_seq  \\\n",
       "7  eosio.token             3369467   \n",
       "\n",
       "                                       authorization  block_num        d_from  \\\n",
       "7  [{'actor': 'edgarwinston', 'permission': 'acti...   45405503  edgarwinston   \n",
       "\n",
       "                                              d_memo  d_quantity  \\\n",
       "7  96-52bb2af4bbcf7e033062eea7696c3b6d2ff0f7b604c...         0.1   \n",
       "\n",
       "  d_quantity_unit          d_to     dapp_code  global_action_seq      name  \\\n",
       "7             EOS  endlessdicex  Endless Dice         5345048058  transfer   \n",
       "\n",
       "                                              trx_id            trx_timestamp  \\\n",
       "7  c215f2c76215702534ad141dc0bfdf9e50952bbe00196b...  2019-03-02T00:00:04.500   \n",
       "\n",
       "   trx_timestamp_unix  \n",
       "7        1.551485e+09  "
      ]
     },
     "execution_count": 42,
     "metadata": {},
     "output_type": "execute_result"
    }
   ],
   "source": [
    "training_bots.head()"
   ]
  },
  {
   "cell_type": "markdown",
   "metadata": {},
   "source": [
    "### Only one bot? How are we going to train a supervised learning algorithm off this data?"
   ]
  },
  {
   "cell_type": "code",
   "execution_count": 7,
   "metadata": {},
   "outputs": [
    {
     "data": {
      "text/plain": [
       "endlessbank1    250\n",
       "endlessoptex    250\n",
       "endlessdicex    250\n",
       "endlessdivdn    250\n",
       "Name: d_to, dtype: int64"
      ]
     },
     "execution_count": 7,
     "metadata": {},
     "output_type": "execute_result"
    }
   ],
   "source": [
    "df2['d_to'].value_counts()"
   ]
  },
  {
   "cell_type": "code",
   "execution_count": 44,
   "metadata": {},
   "outputs": [],
   "source": [
    "training_humans=df2[pd.DataFrame(df2['d_from'].to_list()).isin(list_humans).any(1)]"
   ]
  },
  {
   "cell_type": "code",
   "execution_count": 45,
   "metadata": {},
   "outputs": [
    {
     "data": {
      "text/html": [
       "<div>\n",
       "<style scoped>\n",
       "    .dataframe tbody tr th:only-of-type {\n",
       "        vertical-align: middle;\n",
       "    }\n",
       "\n",
       "    .dataframe tbody tr th {\n",
       "        vertical-align: top;\n",
       "    }\n",
       "\n",
       "    .dataframe thead th {\n",
       "        text-align: right;\n",
       "    }\n",
       "</style>\n",
       "<table border=\"1\" class=\"dataframe\">\n",
       "  <thead>\n",
       "    <tr style=\"text-align: right;\">\n",
       "      <th></th>\n",
       "      <th>account</th>\n",
       "      <th>account_action_seq</th>\n",
       "      <th>authorization</th>\n",
       "      <th>block_num</th>\n",
       "      <th>d_from</th>\n",
       "      <th>d_memo</th>\n",
       "      <th>d_quantity</th>\n",
       "      <th>d_quantity_unit</th>\n",
       "      <th>d_to</th>\n",
       "      <th>dapp_code</th>\n",
       "      <th>global_action_seq</th>\n",
       "      <th>name</th>\n",
       "      <th>trx_id</th>\n",
       "      <th>trx_timestamp</th>\n",
       "      <th>trx_timestamp_unix</th>\n",
       "    </tr>\n",
       "  </thead>\n",
       "  <tbody>\n",
       "  </tbody>\n",
       "</table>\n",
       "</div>"
      ],
      "text/plain": [
       "Empty DataFrame\n",
       "Columns: [account, account_action_seq, authorization, block_num, d_from, d_memo, d_quantity, d_quantity_unit, d_to, dapp_code, global_action_seq, name, trx_id, trx_timestamp, trx_timestamp_unix]\n",
       "Index: []"
      ]
     },
     "execution_count": 45,
     "metadata": {},
     "output_type": "execute_result"
    }
   ],
   "source": [
    "training_humans.head()"
   ]
  },
  {
   "cell_type": "code",
   "execution_count": 15,
   "metadata": {},
   "outputs": [],
   "source": [
    "df2_1=df2.drop(['account','account_action_seq','block_num','trx_id','trx_timestamp','trx_timestamp_unix'],axis=1)"
   ]
  },
  {
   "cell_type": "code",
   "execution_count": null,
   "metadata": {},
   "outputs": [],
   "source": []
  },
  {
   "cell_type": "code",
   "execution_count": 16,
   "metadata": {},
   "outputs": [
    {
     "data": {
      "text/plain": [
       "array([[<matplotlib.axes._subplots.AxesSubplot object at 0x1a19780a58>,\n",
       "        <matplotlib.axes._subplots.AxesSubplot object at 0x1a1997aef0>],\n",
       "       [<matplotlib.axes._subplots.AxesSubplot object at 0x1a199a1470>,\n",
       "        <matplotlib.axes._subplots.AxesSubplot object at 0x1a199c89e8>]],\n",
       "      dtype=object)"
      ]
     },
     "execution_count": 16,
     "metadata": {},
     "output_type": "execute_result"
    },
    {
     "data": {
      "image/png": "[encoded data removed]",
      "text/plain": [
       "<Figure size 432x432 with 4 Axes>"
      ]
     },
     "metadata": {
      "needs_background": "light"
     },
     "output_type": "display_data"
    }
   ],
   "source": [
    "scatter_matrix(df2_1, alpha=0.2, figsize=(6, 6), diagonal='kde')"
   ]
  },
  {
   "cell_type": "code",
   "execution_count": 8,
   "metadata": {},
   "outputs": [
    {
     "data": {
      "text/plain": [
       "[{'actor': 'endlessdicex', 'permission': 'active'}]    750\n",
       "[{'actor': 'nmslnmslnmsl', 'permission': 'active'}]     54\n",
       "[{'actor': 'eossuperplay', 'permission': 'active'}]     53\n",
       "[{'actor': 'juanroderick', 'permission': 'active'}]      1\n",
       "[{'actor': 'miguelmalaki', 'permission': 'active'}]      1\n",
       "[{'actor': 'sinceregrady', 'permission': 'active'}]      1\n",
       "[{'actor': 'tristinjavon', 'permission': 'active'}]      1\n",
       "[{'actor': 'fernandoyair', 'permission': 'active'}]      1\n",
       "[{'actor': 'griffinhamza', 'permission': 'active'}]      1\n",
       "[{'actor': 'huntersamson', 'permission': 'active'}]      1\n",
       "[{'actor': 'alfonsoramon', 'permission': 'active'}]      1\n",
       "[{'actor': 'abrahamnigel', 'permission': 'active'}]      1\n",
       "[{'actor': 'jaylenfinley', 'permission': 'active'}]      1\n",
       "[{'actor': 'luisclarence', 'permission': 'active'}]      1\n",
       "[{'actor': 'gaelsullivan', 'permission': 'active'}]      1\n",
       "[{'actor': 'ariguillermo', 'permission': 'active'}]      1\n",
       "[{'actor': 'guillermoari', 'permission': 'active'}]      1\n",
       "[{'actor': 'karsonskylar', 'permission': 'active'}]      1\n",
       "[{'actor': 'arieljustice', 'permission': 'active'}]      1\n",
       "[{'actor': 'orionquinton', 'permission': 'active'}]      1\n",
       "[{'actor': 'addisonjosue', 'permission': 'active'}]      1\n",
       "[{'actor': 'hassanisrael', 'permission': 'active'}]      1\n",
       "[{'actor': 'lewiszackary', 'permission': 'active'}]      1\n",
       "[{'actor': 'caseyluciano', 'permission': 'active'}]      1\n",
       "[{'actor': 'simoncoleman', 'permission': 'active'}]      1\n",
       "[{'actor': 'cadenjovanni', 'permission': 'active'}]      1\n",
       "[{'actor': 'jordynchance', 'permission': 'active'}]      1\n",
       "[{'actor': 'yairfernando', 'permission': 'active'}]      1\n",
       "[{'actor': 'vaughnbraden', 'permission': 'active'}]      1\n",
       "[{'actor': 'devinbeckham', 'permission': 'active'}]      1\n",
       "                                                      ... \n",
       "[{'actor': 'yandeldorian', 'permission': 'active'}]      1\n",
       "[{'actor': 'uriahphillip', 'permission': 'active'}]      1\n",
       "[{'actor': 'kolbyjameson', 'permission': 'active'}]      1\n",
       "[{'actor': 'caidenjasiah', 'permission': 'active'}]      1\n",
       "[{'actor': 'brysonkonner', 'permission': 'active'}]      1\n",
       "[{'actor': 'jordontanner', 'permission': 'active'}]      1\n",
       "[{'actor': 'calebtrystan', 'permission': 'active'}]      1\n",
       "[{'actor': 'dravenelliot', 'permission': 'active'}]      1\n",
       "[{'actor': 'braydonamare', 'permission': 'active'}]      1\n",
       "[{'actor': 'kalebquinten', 'permission': 'active'}]      1\n",
       "[{'actor': 'russellkason', 'permission': 'active'}]      1\n",
       "[{'actor': 'finleyjaylen', 'permission': 'active'}]      1\n",
       "[{'actor': 'samirgarrett', 'permission': 'active'}]      1\n",
       "[{'actor': 'eastonjorden', 'permission': 'active'}]      1\n",
       "[{'actor': 'marcosjaydin', 'permission': 'active'}]      1\n",
       "[{'actor': 'emerymaximus', 'permission': 'active'}]      1\n",
       "[{'actor': 'skylerharold', 'permission': 'active'}]      1\n",
       "[{'actor': 'geraldlandyn', 'permission': 'active'}]      1\n",
       "[{'actor': 'israelhassan', 'permission': 'active'}]      1\n",
       "[{'actor': 'kennethblaze', 'permission': 'active'}]      1\n",
       "[{'actor': 'aideneliezer', 'permission': 'active'}]      1\n",
       "[{'actor': 'derickdawson', 'permission': 'active'}]      1\n",
       "[{'actor': 'josueaddison', 'permission': 'active'}]      1\n",
       "[{'actor': 'rodolfoscott', 'permission': 'active'}]      1\n",
       "[{'actor': 'quincykeagan', 'permission': 'active'}]      1\n",
       "[{'actor': 'alexisbrogan', 'permission': 'active'}]      1\n",
       "[{'actor': 'jaysonkaeden', 'permission': 'active'}]      1\n",
       "[{'actor': 'keithmemphis', 'permission': 'active'}]      1\n",
       "[{'actor': 'arturocedric', 'permission': 'active'}]      1\n",
       "[{'actor': 'williedavion', 'permission': 'active'}]      1\n",
       "Name: authorization, Length: 146, dtype: int64"
      ]
     },
     "execution_count": 8,
     "metadata": {},
     "output_type": "execute_result"
    }
   ],
   "source": [
    "df2['authorization'].value_counts()"
   ]
  },
  {
   "cell_type": "markdown",
   "metadata": {},
   "source": [
    "# Cleaning Data for Simple Model _Remove timestamp"
   ]
  }
 ],
 "metadata": {
  "kernelspec": {
   "display_name": "Python 3",
   "language": "python",
   "name": "python3"
  },
  "language_info": {
   "codemirror_mode": {
    "name": "ipython",
    "version": 3
   },
   "file_extension": ".py",
   "mimetype": "text/x-python",
   "name": "python",
   "nbconvert_exporter": "python",
   "pygments_lexer": "ipython3",
   "version": "3.7.3"
  }
 },
 "nbformat": 4,
 "nbformat_minor": 2
}
